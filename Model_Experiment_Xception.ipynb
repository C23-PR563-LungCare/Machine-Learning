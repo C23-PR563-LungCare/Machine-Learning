{
  "nbformat": 4,
  "nbformat_minor": 0,
  "metadata": {
    "colab": {
      "provenance": []
    },
    "kernelspec": {
      "name": "python3",
      "display_name": "Python 3"
    },
    "language_info": {
      "name": "python"
    }
  },
  "cells": [
    {
      "cell_type": "code",
      "execution_count": null,
      "metadata": {
        "id": "ZipvAfHjeOIn"
      },
      "outputs": [],
      "source": [
        "import numpy as np\n",
        "import matplotlib.pylab as plt\n",
        "import tensorflow as tf\n",
        "import tensorflow_hub as hub\n",
        "\n",
        "from keras.applications import xception"
      ]
    },
    {
      "cell_type": "code",
      "source": [
        "from google.colab import drive\n",
        "drive.mount('/content/gdrive')"
      ],
      "metadata": {
        "colab": {
          "base_uri": "https://localhost:8080/"
        },
        "id": "6Ml4YhuoeTPf",
        "outputId": "131641fb-8ed4-4cc1-d330-7588257bee01"
      },
      "execution_count": null,
      "outputs": [
        {
          "output_type": "stream",
          "name": "stdout",
          "text": [
            "Drive already mounted at /content/gdrive; to attempt to forcibly remount, call drive.mount(\"/content/gdrive\", force_remount=True).\n"
          ]
        }
      ]
    },
    {
      "cell_type": "code",
      "source": [
        "import pathlib\n",
        "data_train = pathlib.Path('/content/gdrive/My Drive/Capstone/train')\n",
        "data_test = pathlib.Path('/content/gdrive/My Drive/Capstone/test')"
      ],
      "metadata": {
        "id": "USql67lLevhf"
      },
      "execution_count": null,
      "outputs": []
    },
    {
      "cell_type": "code",
      "source": [
        "#preprocessing data\n",
        "from keras.preprocessing.image import ImageDataGenerator\n",
        "train_datagen  = ImageDataGenerator(\n",
        "    rescale=1./255,\n",
        "    shear_range=0.2,\n",
        "    zoom_range=0.2,\n",
        "    horizontal_flip=True\n",
        ")\n",
        "test_datagen = ImageDataGenerator(rescale=1./255)\n",
        "\n",
        "train_generator = train_datagen.flow_from_directory(\n",
        "    data_train,\n",
        "    target_size=(150,150),\n",
        "    class_mode='categorical',\n",
        "    batch_size=126\n",
        ")\n",
        "\n",
        "test_generator = test_datagen.flow_from_directory(\n",
        "    data_test,\n",
        "    target_size=(150,150),\n",
        "    class_mode='categorical',\n",
        "    batch_size=126\n",
        ")"
      ],
      "metadata": {
        "colab": {
          "base_uri": "https://localhost:8080/"
        },
        "id": "EcZNFGH5fBTa",
        "outputId": "7679ca61-0213-49f5-cdbb-e04e7ea411dd"
      },
      "execution_count": null,
      "outputs": [
        {
          "output_type": "stream",
          "name": "stdout",
          "text": [
            "Found 300 images belonging to 3 classes.\n",
            "Found 15 images belonging to 3 classes.\n"
          ]
        }
      ]
    },
    {
      "cell_type": "code",
      "source": [
        "!wget --no-check-certificate \\\n",
        "    https://storage.googleapis.com/tensorflow/keras-applications/xception/xception_weights_tf_dim_ordering_tf_kernels_notop.h5"
      ],
      "metadata": {
        "colab": {
          "base_uri": "https://localhost:8080/"
        },
        "id": "idUBBdwg-m6F",
        "outputId": "9dc08429-d75e-4efd-8fba-79c15eeb594d"
      },
      "execution_count": null,
      "outputs": [
        {
          "output_type": "stream",
          "name": "stdout",
          "text": [
            "--2023-05-21 11:23:23--  https://storage.googleapis.com/tensorflow/keras-applications/xception/xception_weights_tf_dim_ordering_tf_kernels_notop.h5\n",
            "Resolving storage.googleapis.com (storage.googleapis.com)... 173.194.218.128, 108.177.12.128, 108.177.13.128, ...\n",
            "Connecting to storage.googleapis.com (storage.googleapis.com)|173.194.218.128|:443... connected.\n",
            "HTTP request sent, awaiting response... 200 OK\n",
            "Length: 83683744 (80M) [application/octet-stream]\n",
            "Saving to: ‘xception_weights_tf_dim_ordering_tf_kernels_notop.h5.2’\n",
            "\n",
            "xception_weights_tf 100%[===================>]  79.81M   188MB/s    in 0.4s    \n",
            "\n",
            "2023-05-21 11:23:24 (188 MB/s) - ‘xception_weights_tf_dim_ordering_tf_kernels_notop.h5.2’ saved [83683744/83683744]\n",
            "\n"
          ]
        }
      ]
    },
    {
      "cell_type": "code",
      "source": [
        "base_model = xception.Xception(\n",
        "    weights='imagenet',\n",
        "    include_top=False,\n",
        "    input_shape=(150,150,3),\n",
        "    pooling='avg'\n",
        ")"
      ],
      "metadata": {
        "id": "Xt1ByjYifjsG",
        "colab": {
          "base_uri": "https://localhost:8080/"
        },
        "outputId": "d9152dfb-7f02-409b-8c62-a9dc8e6becb9"
      },
      "execution_count": null,
      "outputs": [
        {
          "output_type": "stream",
          "name": "stdout",
          "text": [
            "Downloading data from https://storage.googleapis.com/tensorflow/keras-applications/xception/xception_weights_tf_dim_ordering_tf_kernels_notop.h5\n",
            "83683744/83683744 [==============================] - 1s 0us/step\n"
          ]
        }
      ]
    },
    {
      "cell_type": "code",
      "source": [
        "for layer in base_model.layers:\n",
        "  layer.trainable = False"
      ],
      "metadata": {
        "id": "gBOINJnGAp_q"
      },
      "execution_count": null,
      "outputs": []
    },
    {
      "cell_type": "code",
      "source": [
        "last_layer = base_model.get_layer('conv2d_12')\n",
        "print('last lasyer output shape :', last_layer.output_shape)\n",
        "last_output = last_layer.output"
      ],
      "metadata": {
        "colab": {
          "base_uri": "https://localhost:8080/"
        },
        "id": "JCFu4iVJDY_y",
        "outputId": "e52022ca-0e4f-4bd9-caa3-f5a423adffc4"
      },
      "execution_count": null,
      "outputs": [
        {
          "output_type": "stream",
          "name": "stdout",
          "text": [
            "last lasyer output shape : (None, 36, 36, 128)\n"
          ]
        }
      ]
    },
    {
      "cell_type": "code",
      "source": [
        "from tensorflow.keras import Model\n",
        "from tensorflow.keras import layers\n",
        "\n",
        "x = layers.Flatten()(last_output)\n",
        "x = layers.Dense(128, activation = 'relu')(x)\n",
        "x = layers.Dense(3, activation = 'softmax')(x)\n",
        "\n",
        "model = Model(base_model.input, x)"
      ],
      "metadata": {
        "id": "ja48fYMdDsFZ"
      },
      "execution_count": null,
      "outputs": []
    },
    {
      "cell_type": "code",
      "source": [
        "model.compile(\n",
        "    optimizer = 'adam',\n",
        "    loss = 'categorical_crossentropy',\n",
        "    metrics = ['accuracy']\n",
        ")"
      ],
      "metadata": {
        "id": "mudQy_XtIjZf"
      },
      "execution_count": null,
      "outputs": []
    },
    {
      "cell_type": "code",
      "source": [
        "history = model.fit(\n",
        "    train_generator,\n",
        "    epochs = 100\n",
        ")"
      ],
      "metadata": {
        "colab": {
          "base_uri": "https://localhost:8080/"
        },
        "id": "Elj4NXvOJXc2",
        "outputId": "1e9b0b42-1fbc-4ade-e8d1-ce9519b27f05"
      },
      "execution_count": null,
      "outputs": [
        {
          "output_type": "stream",
          "name": "stdout",
          "text": [
            "Epoch 1/100\n",
            "3/3 [==============================] - 6s 2s/step - loss: 26.9972 - accuracy: 0.5633\n",
            "Epoch 2/100\n",
            "3/3 [==============================] - 8s 2s/step - loss: 49.5461 - accuracy: 0.4633\n",
            "Epoch 3/100\n",
            "3/3 [==============================] - 6s 2s/step - loss: 61.5939 - accuracy: 0.3967\n",
            "Epoch 4/100\n",
            "3/3 [==============================] - 6s 2s/step - loss: 62.5917 - accuracy: 0.4900\n",
            "Epoch 5/100\n",
            "3/3 [==============================] - 7s 2s/step - loss: 70.3700 - accuracy: 0.4600\n",
            "Epoch 6/100\n",
            "3/3 [==============================] - 6s 2s/step - loss: 66.3679 - accuracy: 0.4033\n",
            "Epoch 7/100\n",
            "3/3 [==============================] - 8s 3s/step - loss: 52.0364 - accuracy: 0.5867\n",
            "Epoch 8/100\n",
            "3/3 [==============================] - 6s 2s/step - loss: 43.4254 - accuracy: 0.4733\n",
            "Epoch 9/100\n",
            "3/3 [==============================] - 6s 2s/step - loss: 36.9505 - accuracy: 0.4767\n",
            "Epoch 10/100\n",
            "3/3 [==============================] - 6s 1s/step - loss: 41.9114 - accuracy: 0.4800\n",
            "Epoch 11/100\n",
            "3/3 [==============================] - 7s 3s/step - loss: 23.7223 - accuracy: 0.5633\n",
            "Epoch 12/100\n",
            "3/3 [==============================] - 6s 2s/step - loss: 15.8468 - accuracy: 0.6567\n",
            "Epoch 13/100\n",
            "3/3 [==============================] - 8s 2s/step - loss: 22.7034 - accuracy: 0.6033\n",
            "Epoch 14/100\n",
            "3/3 [==============================] - 6s 1s/step - loss: 20.7566 - accuracy: 0.5833\n",
            "Epoch 15/100\n",
            "3/3 [==============================] - 8s 3s/step - loss: 21.0014 - accuracy: 0.5800\n",
            "Epoch 16/100\n",
            "3/3 [==============================] - 6s 1s/step - loss: 24.9093 - accuracy: 0.5967\n",
            "Epoch 17/100\n",
            "3/3 [==============================] - 8s 1s/step - loss: 30.1187 - accuracy: 0.5833\n",
            "Epoch 18/100\n",
            "3/3 [==============================] - 6s 2s/step - loss: 14.3899 - accuracy: 0.6300\n",
            "Epoch 19/100\n",
            "3/3 [==============================] - 8s 3s/step - loss: 13.9998 - accuracy: 0.6033\n",
            "Epoch 20/100\n",
            "3/3 [==============================] - 6s 2s/step - loss: 16.0303 - accuracy: 0.6367\n",
            "Epoch 21/100\n",
            "3/3 [==============================] - 6s 2s/step - loss: 39.7915 - accuracy: 0.5267\n",
            "Epoch 22/100\n",
            "3/3 [==============================] - 6s 2s/step - loss: 52.0552 - accuracy: 0.4067\n",
            "Epoch 23/100\n",
            "3/3 [==============================] - 8s 3s/step - loss: 58.6180 - accuracy: 0.4467\n",
            "Epoch 24/100\n",
            "3/3 [==============================] - 6s 1s/step - loss: 60.0432 - accuracy: 0.4367\n",
            "Epoch 25/100\n",
            "3/3 [==============================] - 8s 2s/step - loss: 59.5081 - accuracy: 0.4667\n",
            "Epoch 26/100\n",
            "3/3 [==============================] - 6s 2s/step - loss: 38.2615 - accuracy: 0.4933\n",
            "Epoch 27/100\n",
            "3/3 [==============================] - 8s 2s/step - loss: 26.4039 - accuracy: 0.5967\n",
            "Epoch 28/100\n",
            "3/3 [==============================] - 6s 1s/step - loss: 20.7251 - accuracy: 0.6000\n",
            "Epoch 29/100\n",
            "3/3 [==============================] - 7s 2s/step - loss: 25.6467 - accuracy: 0.5467\n",
            "Epoch 30/100\n",
            "3/3 [==============================] - 6s 1s/step - loss: 28.4174 - accuracy: 0.4900\n",
            "Epoch 31/100\n",
            "3/3 [==============================] - 6s 2s/step - loss: 22.4581 - accuracy: 0.5500\n",
            "Epoch 32/100\n",
            "3/3 [==============================] - 7s 1s/step - loss: 25.7713 - accuracy: 0.5533\n",
            "Epoch 33/100\n",
            "3/3 [==============================] - 6s 1s/step - loss: 22.7669 - accuracy: 0.5633\n",
            "Epoch 34/100\n",
            "3/3 [==============================] - 8s 1s/step - loss: 39.1395 - accuracy: 0.5633\n",
            "Epoch 35/100\n",
            "3/3 [==============================] - 6s 2s/step - loss: 40.2282 - accuracy: 0.5200\n",
            "Epoch 36/100\n",
            "3/3 [==============================] - 6s 1s/step - loss: 62.1991 - accuracy: 0.3900\n",
            "Epoch 37/100\n",
            "3/3 [==============================] - 8s 2s/step - loss: 59.3627 - accuracy: 0.4400\n",
            "Epoch 38/100\n",
            "3/3 [==============================] - 6s 2s/step - loss: 60.3185 - accuracy: 0.5433\n",
            "Epoch 39/100\n",
            "3/3 [==============================] - 8s 2s/step - loss: 26.3774 - accuracy: 0.5067\n",
            "Epoch 40/100\n",
            "3/3 [==============================] - 6s 2s/step - loss: 29.6036 - accuracy: 0.5267\n",
            "Epoch 41/100\n",
            "3/3 [==============================] - 8s 2s/step - loss: 20.9360 - accuracy: 0.5567\n",
            "Epoch 42/100\n",
            "3/3 [==============================] - 6s 1s/step - loss: 38.2895 - accuracy: 0.5233\n",
            "Epoch 43/100\n",
            "3/3 [==============================] - 8s 2s/step - loss: 34.8598 - accuracy: 0.5300\n",
            "Epoch 44/100\n",
            "3/3 [==============================] - 6s 2s/step - loss: 21.9341 - accuracy: 0.6000\n",
            "Epoch 45/100\n",
            "3/3 [==============================] - 8s 2s/step - loss: 18.2018 - accuracy: 0.5767\n",
            "Epoch 46/100\n",
            "3/3 [==============================] - 6s 2s/step - loss: 22.9782 - accuracy: 0.5333\n",
            "Epoch 47/100\n",
            "3/3 [==============================] - 6s 2s/step - loss: 16.5872 - accuracy: 0.6333\n",
            "Epoch 48/100\n",
            "3/3 [==============================] - 6s 2s/step - loss: 11.8555 - accuracy: 0.6400\n",
            "Epoch 49/100\n",
            "3/3 [==============================] - 8s 2s/step - loss: 10.6178 - accuracy: 0.6867\n",
            "Epoch 50/100\n",
            "3/3 [==============================] - 6s 1s/step - loss: 12.2936 - accuracy: 0.6233\n",
            "Epoch 51/100\n",
            "3/3 [==============================] - 8s 2s/step - loss: 17.3183 - accuracy: 0.6200\n",
            "Epoch 52/100\n",
            "3/3 [==============================] - 6s 1s/step - loss: 25.6404 - accuracy: 0.5233\n",
            "Epoch 53/100\n",
            "3/3 [==============================] - 8s 2s/step - loss: 23.3261 - accuracy: 0.5300\n",
            "Epoch 54/100\n",
            "3/3 [==============================] - 6s 2s/step - loss: 17.1074 - accuracy: 0.5900\n",
            "Epoch 55/100\n",
            "3/3 [==============================] - 6s 2s/step - loss: 59.9915 - accuracy: 0.3900\n",
            "Epoch 56/100\n",
            "3/3 [==============================] - 6s 2s/step - loss: 44.9640 - accuracy: 0.5500\n",
            "Epoch 57/100\n",
            "3/3 [==============================] - 8s 2s/step - loss: 23.5816 - accuracy: 0.5700\n",
            "Epoch 58/100\n",
            "3/3 [==============================] - 6s 1s/step - loss: 31.5529 - accuracy: 0.5000\n",
            "Epoch 59/100\n",
            "3/3 [==============================] - 6s 2s/step - loss: 24.6101 - accuracy: 0.6100\n",
            "Epoch 60/100\n",
            "3/3 [==============================] - 8s 3s/step - loss: 22.0091 - accuracy: 0.5933\n",
            "Epoch 61/100\n",
            "3/3 [==============================] - 6s 2s/step - loss: 24.4863 - accuracy: 0.5400\n",
            "Epoch 62/100\n",
            "3/3 [==============================] - 7s 2s/step - loss: 18.4118 - accuracy: 0.6067\n",
            "Epoch 63/100\n",
            "3/3 [==============================] - 6s 2s/step - loss: 17.9180 - accuracy: 0.6200\n"
          ]
        }
      ]
    },
    {
      "cell_type": "code",
      "source": [],
      "metadata": {
        "id": "0V6oSrz4JdhY"
      },
      "execution_count": null,
      "outputs": []
    }
  ]
}
