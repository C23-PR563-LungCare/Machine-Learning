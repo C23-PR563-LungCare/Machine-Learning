{
 "cells": [
  {
   "cell_type": "code",
   "execution_count": 1,
   "metadata": {
    "id": "TFhrfaoPI0v-"
   },
   "outputs": [],
   "source": [
    "import numpy as np\n",
    "import matplotlib.pylab as plt\n",
    "\n",
    "import tensorflow as tf\n",
    "import tensorflow_hub as hub \n",
    "\n",
    "from tensorflow.keras.applications.vgg16 import VGG16"
   ]
  },
  {
   "cell_type": "markdown",
   "metadata": {
    "id": "PVfZQ2nYVlJr"
   },
   "source": [
    "Mount for Non Owner"
   ]
  },
  {
   "cell_type": "code",
   "execution_count": 2,
   "metadata": {
    "colab": {
     "base_uri": "https://localhost:8080/"
    },
    "id": "fHaptumMVmhu",
    "outputId": "8c0ae75f-043c-4479-da1d-547e637146d2"
   },
   "outputs": [],
   "source": [
    "import pathlib\n",
    "data_train = 'D:/Backup/Bangkit/archive/Actual Set/train'\n",
    "data_test = 'D:/Backup/Bangkit/archive/Actual Set/test'"
   ]
  },
  {
   "cell_type": "code",
   "execution_count": 13,
   "metadata": {
    "colab": {
     "base_uri": "https://localhost:8080/"
    },
    "id": "96sd_SDUJwFY",
    "outputId": "3d0cca18-b0d6-4965-f091-1922216986ec"
   },
   "outputs": [
    {
     "name": "stdout",
     "output_type": "stream",
     "text": [
      "Found 13850 images belonging to 3 classes.\n",
      "Found 1303 images belonging to 3 classes.\n"
     ]
    }
   ],
   "source": [
    "#preprocessing data\n",
    "from tensorflow.keras.preprocessing.image import ImageDataGenerator\n",
    "train_datagen = ImageDataGenerator(\n",
    "        rescale=1./255,\n",
    "        shear_range=0.2,\n",
    "        zoom_range=0.2,\n",
    "        horizontal_flip=True)\n",
    "test_datagen = ImageDataGenerator(rescale=1./255)\n",
    "\n",
    "\n",
    "train_generator = train_datagen.flow_from_directory(\n",
    "\tdata_train,\n",
    "\ttarget_size=(150,150),\n",
    "\tclass_mode='categorical',\n",
    "  batch_size=32\n",
    ")\n",
    "\n",
    "test_generator = test_datagen.flow_from_directory(\n",
    "\tdata_test,\n",
    "\ttarget_size=(150,150),\n",
    "\tclass_mode='categorical',\n",
    "  batch_size=32\n",
    ")"
   ]
  },
  {
   "cell_type": "code",
   "execution_count": null,
   "metadata": {
    "id": "Q54QZFmrdTdp"
   },
   "outputs": [],
   "source": []
  },
  {
   "cell_type": "code",
   "execution_count": 14,
   "metadata": {
    "colab": {
     "base_uri": "https://localhost:8080/"
    },
    "id": "7eWjQDErc_O2",
    "outputId": "eb0061fe-4bf9-400b-bbf1-3838b77ef852"
   },
   "outputs": [],
   "source": [
    "\n",
    "\n",
    "base_model = VGG16(input_shape = (150, 150, 3), \n",
    "                          include_top = False, \n",
    "                          weights = 'imagenet')\n",
    "\n",
    "\n",
    "for layer in base_model.layers:\n",
    "    layer.trainable = False"
   ]
  },
  {
   "cell_type": "code",
   "execution_count": 15,
   "metadata": {
    "id": "pPRQ257qLwYX"
   },
   "outputs": [],
   "source": [
    "from tensorflow.keras import Model\n",
    "from tensorflow.keras import layers\n",
    "x = layers.Flatten()(base_model.output)\n",
    "x = layers.Dense(128, activation ='relu')(x)\n",
    "x = layers.Dense (3, activation = 'softmax')(x)\n",
    "\n",
    "model = Model (base_model.input, x)"
   ]
  },
  {
   "cell_type": "code",
   "execution_count": 16,
   "metadata": {
    "id": "c4WzUnVZZ35d"
   },
   "outputs": [],
   "source": [
    "model.compile(optimizer = 'adam',\n",
    "              loss = 'categorical_crossentropy',\n",
    "              metrics = ['accuracy'])"
   ]
  },
  {
   "cell_type": "code",
   "execution_count": 18,
   "metadata": {
    "colab": {
     "base_uri": "https://localhost:8080/"
    },
    "id": "NWMxlIqZd1aa",
    "outputId": "08077b54-ba88-40d1-fb8b-f28696dad5cb"
   },
   "outputs": [
    {
     "name": "stdout",
     "output_type": "stream",
     "text": [
      "Epoch 1/5\n",
      "433/433 [==============================] - 572s 1s/step - loss: 0.2908 - accuracy: 0.8858 - val_loss: 0.3935 - val_accuracy: 0.8021\n",
      "Epoch 2/5\n",
      "433/433 [==============================] - 517s 1s/step - loss: 0.2338 - accuracy: 0.9101 - val_loss: 0.7870 - val_accuracy: 0.7292\n",
      "Epoch 3/5\n",
      "433/433 [==============================] - 524s 1s/step - loss: 0.1965 - accuracy: 0.9261 - val_loss: 0.6486 - val_accuracy: 0.7604\n",
      "Epoch 4/5\n",
      "433/433 [==============================] - 515s 1s/step - loss: 0.1839 - accuracy: 0.9304 - val_loss: 0.6597 - val_accuracy: 0.7083\n",
      "Epoch 5/5\n",
      "433/433 [==============================] - 515s 1s/step - loss: 0.1667 - accuracy: 0.9383 - val_loss: 0.2690 - val_accuracy: 0.8333\n"
     ]
    }
   ],
   "source": [
    "history = model.fit(\n",
    "    train_generator,\n",
    "    epochs = 5,\n",
    "    validation_data = test_generator,\n",
    "    verbose = 1,\n",
    "    validation_steps=3\n",
    ") "
   ]
  },
  {
   "cell_type": "code",
   "execution_count": 22,
   "metadata": {
    "id": "1xXsb1aMb-dA"
   },
   "outputs": [
    {
     "data": {
      "image/png": "[encoded data removed]",
      "text/plain": [
       "<Figure size 432x288 with 1 Axes>"
      ]
     },
     "metadata": {
      "needs_background": "light"
     },
     "output_type": "display_data"
    },
    {
     "data": {
      "text/plain": [
       "<Figure size 432x288 with 0 Axes>"
      ]
     },
     "metadata": {},
     "output_type": "display_data"
    }
   ],
   "source": [
    "import matplotlib.pyplot as plt\n",
    "\n",
    "# Plot the results\n",
    "acc = history.history['accuracy']\n",
    "val_acc = history.history['val_accuracy']\n",
    "\n",
    "loss = history.history['loss']\n",
    "\n",
    "\n",
    "epochs = range(len(acc))\n",
    "\n",
    "plt.plot(epochs, acc, 'r', label='Training accuracy')\n",
    "plt.plot(epochs, val_acc, 'b', label='Validation accuracy')\n",
    "plt.title('Training and validation accuracy')\n",
    "plt.legend(loc=0)\n",
    "plt.figure()\n",
    "\n",
    "plt.show()"
   ]
  },
  {
   "cell_type": "code",
   "execution_count": null,
   "metadata": {
    "colab": {
     "base_uri": "https://localhost:8080/"
    },
    "id": "wnYBx4kyh-3t",
    "outputId": "e35c5d31-6373-4753-b571-2359d5e1c60b"
   },
   "outputs": [
    {
     "name": "stderr",
     "output_type": "stream",
     "text": [
      "WARNING:absl:Found untraced functions such as _jit_compiled_convolution_op, _jit_compiled_convolution_op, _jit_compiled_convolution_op, _jit_compiled_convolution_op, _jit_compiled_convolution_op while saving (showing 5 of 71). These functions will not be directly callable after loading.\n"
     ]
    }
   ],
   "source": [
    "tf.saved_model.save(model, LUNGCARE_TEMP_MODEL)"
   ]
  },
  {
   "cell_type": "code",
   "execution_count": null,
   "metadata": {
    "id": "YzFhEnT-iEPt"
   },
   "outputs": [],
   "source": [
    "converter = tf.lite.TFLiteConverter.from_saved_model(LUNGCARE_TEMP_MODEL)"
   ]
  },
  {
   "cell_type": "code",
   "execution_count": null,
   "metadata": {
    "id": "jTCPQyqvialy"
   },
   "outputs": [],
   "source": [
    "tflite_model = converter.convert()\n",
    "tflite_model_file= 'converted_model.tflite'"
   ]
  },
  {
   "cell_type": "code",
   "execution_count": 23,
   "metadata": {
    "id": "zn_YrWlfi9ea"
   },
   "outputs": [
    {
     "name": "stdout",
     "output_type": "stream",
     "text": [
      "WARNING:tensorflow:From D:\\Backup\\Kuliah\\KASDD\\envs\\gpu2\\lib\\site-packages\\tensorflow\\python\\ops\\resource_variable_ops.py:1817: calling BaseResourceVariable.__init__ (from tensorflow.python.ops.resource_variable_ops) with constraint is deprecated and will be removed in a future version.\n",
      "Instructions for updating:\n",
      "If using Keras pass *_constraint arguments to layers.\n",
      "INFO:tensorflow:Assets written to: D:/Backup/Bangkit/main_model\\assets\n"
     ]
    }
   ],
   "source": [
    "export_dir = 'D:/Backup/Bangkit/main_model'\n",
    "tf.saved_model.save(model, export_dir)"
   ]
  },
  {
   "cell_type": "code",
   "execution_count": 25,
   "metadata": {},
   "outputs": [
    {
     "data": {
      "text/plain": [
       "63067860"
      ]
     },
     "execution_count": 25,
     "metadata": {},
     "output_type": "execute_result"
    }
   ],
   "source": [
    "import pathlib\n",
    "converter = tf.lite.TFLiteConverter.from_saved_model(export_dir)\n",
    "tflite_model = converter.convert()\n",
    "\n",
    "tflite_model_file = pathlib.Path('D:/Backup/Bangkit/tflite_model')\n",
    "tflite_model_file.write_bytes(tflite_model)"
   ]
  },
  {
   "cell_type": "code",
   "execution_count": 45,
   "metadata": {},
   "outputs": [
    {
     "name": "stdout",
     "output_type": "stream",
     "text": [
      "Covid = 99 %\n",
      "Normal = 0 %\n",
      "Pneumonia = 0 %\n",
      "[[0.99595827 0.00186961 0.00217209]]\n"
     ]
    }
   ],
   "source": [
    "from tensorflow.keras.preprocessing.image import load_img\n",
    "from tensorflow.keras.preprocessing.image import img_to_array\n",
    "\n",
    "path = 'D:/Backup/Bangkit/testings/abnormal.png'\n",
    "img = load_img(path, target_size=(150,150))\n",
    "x = img_to_array(img)\n",
    "x /= 255\n",
    "x = np.expand_dims(x, axis=0)\n",
    "\n",
    "images = np.vstack([x])\n",
    "classes = model.predict(images, batch_size=10)\n",
    "print_classes(classes[0])\n",
    "print(classes)\n",
    "\n",
    "def print_classes(classes):\n",
    "    print(f\"Covid = {int(classes[0] * 100)} %\")\n",
    "    print(f\"Normal = {int(classes[1] * 100)} %\")\n",
    "    print(f\"Pneumonia = {int(classes[2] * 100)} %\")"
   ]
  },
  {
   "cell_type": "code",
   "execution_count": null,
   "metadata": {},
   "outputs": [],
   "source": []
  }
 ],
 "metadata": {
  "colab": {
   "provenance": []
  },
  "kernelspec": {
   "display_name": "Python 3",
   "language": "python",
   "name": "python3"
  },
  "language_info": {
   "codemirror_mode": {
    "name": "ipython",
    "version": 3
   },
   "file_extension": ".py",
   "mimetype": "text/x-python",
   "name": "python",
   "nbconvert_exporter": "python",
   "pygments_lexer": "ipython3",
   "version": "3.6.13"
  }
 },
 "nbformat": 4,
 "nbformat_minor": 1
}
