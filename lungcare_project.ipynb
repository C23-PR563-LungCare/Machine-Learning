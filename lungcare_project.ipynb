{
  "nbformat": 4,
  "nbformat_minor": 0,
  "metadata": {
    "colab": {
      "provenance": []
    },
    "kernelspec": {
      "name": "python3",
      "display_name": "Python 3"
    },
    "language_info": {
      "name": "python"
    }
  },
  "cells": [
    {
      "cell_type": "code",
      "source": [
        "import numpy as np\n",
        "import matplotlib.pylab as plt\n",
        "\n",
        "import tensorflow as tf\n",
        "import tensorflow_hub as hub \n",
        "\n",
        "from tensorflow.keras.applications.vgg16 import VGG16"
      ],
      "metadata": {
        "id": "TFhrfaoPI0v-"
      },
      "execution_count": null,
      "outputs": []
    },
    {
      "cell_type": "code",
      "source": [
        "from google.colab import drive\n",
        "drive.mount('/content/gdrive')"
      ],
      "metadata": {
        "id": "q6421NdpXSwy",
        "colab": {
          "base_uri": "https://localhost:8080/"
        },
        "outputId": "48827cc1-1038-45d1-dd04-b80ff1f5a63b"
      },
      "execution_count": null,
      "outputs": [
        {
          "output_type": "stream",
          "name": "stdout",
          "text": [
            "Mounted at /content/gdrive\n"
          ]
        }
      ]
    },
    {
      "cell_type": "markdown",
      "source": [
        "Mount for Drive Owner"
      ],
      "metadata": {
        "id": "o40KTeoEViv0"
      }
    },
    {
      "cell_type": "code",
      "source": [
        "import pathlib\n",
        "data_train = pathlib.Path('/content/gdrive/My Drive/Colab Notebooks/Capstone/train') \n",
        "data_test = pathlib.Path('/content/gdrive/My Drive/Colab Notebooks/Capstone/test') "
      ],
      "metadata": {
        "id": "to4DgTYMPszB"
      },
      "execution_count": null,
      "outputs": []
    },
    {
      "cell_type": "markdown",
      "source": [
        "Mount for Non Owner"
      ],
      "metadata": {
        "id": "PVfZQ2nYVlJr"
      }
    },
    {
      "cell_type": "code",
      "source": [
        "import pathlib\n",
        "data_train = pathlib.Path('/content/gdrive/My Drive/Capstone/train') \n",
        "data_test = pathlib.Path('/content/gdrive/My Drive/Capstone/test') "
      ],
      "metadata": {
        "id": "fHaptumMVmhu"
      },
      "execution_count": null,
      "outputs": []
    },
    {
      "cell_type": "code",
      "source": [
        "#preprocessing data\n",
        "from keras.preprocessing.image import ImageDataGenerator\n",
        "train_datagen = ImageDataGenerator(\n",
        "        rescale=1./255,\n",
        "        shear_range=0.2,\n",
        "        zoom_range=0.2,\n",
        "        horizontal_flip=True)\n",
        "test_datagen = ImageDataGenerator(rescale=1./255)\n",
        "\n",
        "\n",
        "train_generator = train_datagen.flow_from_directory(\n",
        "\tdata_train,\n",
        "\ttarget_size=(150,150),\n",
        "\tclass_mode='categorical',\n",
        "  batch_size=126\n",
        ")\n",
        "\n",
        "test_generator = test_datagen.flow_from_directory(\n",
        "\tdata_test,\n",
        "\ttarget_size=(150,150),\n",
        "\tclass_mode='categorical',\n",
        "  batch_size=126\n",
        ")"
      ],
      "metadata": {
        "id": "96sd_SDUJwFY",
        "colab": {
          "base_uri": "https://localhost:8080/"
        },
        "outputId": "4bd3a15d-9265-4cd1-f70d-45d28833df46"
      },
      "execution_count": null,
      "outputs": [
        {
          "output_type": "stream",
          "name": "stdout",
          "text": [
            "Found 300 images belonging to 3 classes.\n",
            "Found 15 images belonging to 3 classes.\n"
          ]
        }
      ]
    },
    {
      "cell_type": "code",
      "source": [],
      "metadata": {
        "id": "Q54QZFmrdTdp"
      },
      "execution_count": null,
      "outputs": []
    },
    {
      "cell_type": "code",
      "source": [
        "\n",
        "\n",
        "base_model = VGG16(input_shape = (150, 150, 3), \n",
        "                          include_top = False, \n",
        "                          weights = 'imagenet')\n",
        "\n",
        "\n",
        "for layer in base_model.layers:\n",
        "  layer.trainable = False"
      ],
      "metadata": {
        "id": "7eWjQDErc_O2",
        "colab": {
          "base_uri": "https://localhost:8080/"
        },
        "outputId": "276c68fc-aae2-4716-c925-a8fa9e557c5e"
      },
      "execution_count": null,
      "outputs": [
        {
          "output_type": "stream",
          "name": "stdout",
          "text": [
            "Downloading data from https://storage.googleapis.com/tensorflow/keras-applications/vgg16/vgg16_weights_tf_dim_ordering_tf_kernels_notop.h5\n",
            "58889256/58889256 [==============================] - 0s 0us/step\n"
          ]
        }
      ]
    },
    {
      "cell_type": "code",
      "source": [
        "from tensorflow.keras import Model\n",
        "from tensorflow.keras import layers\n",
        "x = layers.Flatten()(base_model.output)\n",
        "x = layers.Dense(128, activation ='relu')(x)\n",
        "x = layers.Dense (3, activation = 'softmax')(x)\n",
        "\n",
        "model = Model (base_model.input, x)"
      ],
      "metadata": {
        "id": "pPRQ257qLwYX"
      },
      "execution_count": null,
      "outputs": []
    },
    {
      "cell_type": "code",
      "source": [
        "model.compile(optimizer = 'adam',\n",
        "              loss = 'categorical_crossentropy',\n",
        "              metrics = ['accuracy'])"
      ],
      "metadata": {
        "id": "c4WzUnVZZ35d"
      },
      "execution_count": null,
      "outputs": []
    },
    {
      "cell_type": "code",
      "source": [
        "history = model.fit(\n",
        "    train_generator,\n",
        "    epochs = 10,\n",
        "    validation_data = test_generator,\n",
        "    verbose = 1,\n",
        "    validation_steps=3\n",
        ") "
      ],
      "metadata": {
        "id": "NWMxlIqZd1aa",
        "colab": {
          "base_uri": "https://localhost:8080/"
        },
        "outputId": "73a4a83d-00d4-4be5-c36e-7ad43524f869"
      },
      "execution_count": null,
      "outputs": [
        {
          "metadata": {
            "tags": null
          },
          "name": "stdout",
          "output_type": "stream",
          "text": [
            "Epoch 1/10\n",
            "3/3 [==============================] - ETA: 0s - loss: 2.2592 - accuracy: 0.4067 "
          ]
        },
        {
          "metadata": {
            "tags": null
          },
          "name": "stderr",
          "output_type": "stream",
          "text": [
            "WARNING:tensorflow:Your input ran out of data; interrupting training. Make sure that your dataset or generator can generate at least `steps_per_epoch * epochs` batches (in this case, 3 batches). You may need to use the repeat() function when building your dataset.\n"
          ]
        },
        {
          "output_type": "stream",
          "name": "stdout",
          "text": [
            "3/3 [==============================] - 108s 28s/step - loss: 2.2592 - accuracy: 0.4067 - val_loss: 1.9315 - val_accuracy: 0.4667\n",
            "Epoch 2/10\n",
            "3/3 [==============================] - 84s 24s/step - loss: 1.3195 - accuracy: 0.4333\n",
            "Epoch 3/10\n",
            "3/3 [==============================] - 85s 24s/step - loss: 1.0361 - accuracy: 0.4600\n",
            "Epoch 4/10\n",
            "3/3 [==============================] - 84s 23s/step - loss: 0.6898 - accuracy: 0.7300\n",
            "Epoch 5/10\n",
            "3/3 [==============================] - 82s 34s/step - loss: 0.6686 - accuracy: 0.7033\n",
            "Epoch 6/10\n",
            "3/3 [==============================] - 82s 34s/step - loss: 0.5518 - accuracy: 0.8033\n",
            "Epoch 7/10\n",
            "3/3 [==============================] - 82s 23s/step - loss: 0.5728 - accuracy: 0.7333\n",
            "Epoch 8/10\n",
            "3/3 [==============================] - 80s 33s/step - loss: 0.4499 - accuracy: 0.8567\n",
            "Epoch 9/10\n",
            "3/3 [==============================] - 85s 26s/step - loss: 0.4713 - accuracy: 0.8267\n",
            "Epoch 10/10\n",
            "3/3 [==============================] - 82s 23s/step - loss: 0.3938 - accuracy: 0.8600\n"
          ]
        }
      ]
    },
    {
      "cell_type": "code",
      "source": [
        "import matplotlib.pyplot as plt\n",
        "\n",
        "# Plot the results\n",
        "acc = history.history['accuracy']\n",
        "\n",
        "loss = history.history['loss']\n",
        "\n",
        "\n",
        "epochs = range(len(acc))\n",
        "\n",
        "plt.plot(epochs, acc, 'r', label='Training accuracy')\n",
        "plt.title('Training and validation accuracy')\n",
        "plt.legend(loc=0)\n",
        "plt.figure()\n",
        "\n",
        "plt.show()"
      ],
      "metadata": {
        "id": "1xXsb1aMb-dA"
      },
      "execution_count": null,
      "outputs": []
    },
    {
      "cell_type": "code",
      "source": [
        "LUNGCARE_TEMP_MODEL = \"exp_saved_model\""
      ],
      "metadata": {
        "id": "n77h7yCLg0EJ"
      },
      "execution_count": null,
      "outputs": []
    },
    {
      "cell_type": "code",
      "source": [
        "tf.saved_model.save(model, LUNGCARE_TEMP_MODEL)"
      ],
      "metadata": {
        "colab": {
          "base_uri": "https://localhost:8080/"
        },
        "id": "wnYBx4kyh-3t",
        "outputId": "e35c5d31-6373-4753-b571-2359d5e1c60b"
      },
      "execution_count": null,
      "outputs": [
        {
          "output_type": "stream",
          "name": "stderr",
          "text": [
            "WARNING:absl:Found untraced functions such as _jit_compiled_convolution_op, _jit_compiled_convolution_op, _jit_compiled_convolution_op, _jit_compiled_convolution_op, _jit_compiled_convolution_op while saving (showing 5 of 71). These functions will not be directly callable after loading.\n"
          ]
        }
      ]
    },
    {
      "cell_type": "code",
      "source": [
        "converter = tf.lite.TFLiteConverter.from_saved_model(LUNGCARE_TEMP_MODEL)"
      ],
      "metadata": {
        "id": "YzFhEnT-iEPt"
      },
      "execution_count": null,
      "outputs": []
    },
    {
      "cell_type": "code",
      "source": [
        "tflite_model = converter.convert()\n",
        "tflite_model_file= 'converted_model.tflite'"
      ],
      "metadata": {
        "id": "jTCPQyqvialy"
      },
      "execution_count": null,
      "outputs": []
    },
    {
      "cell_type": "code",
      "source": [],
      "metadata": {
        "id": "zn_YrWlfi9ea"
      },
      "execution_count": null,
      "outputs": []
    }
  ]
}